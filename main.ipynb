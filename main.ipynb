{
 "cells": [
  {
   "cell_type": "code",
   "execution_count": null,
   "metadata": {},
   "outputs": [],
   "source": [
    "import pandas\n",
    "import operator\n",
    "import numpy\n",
    "import matplotlib.pyplot as pyplot\n",
    "import datetime\n",
    "import plotly.express as px\n",
    "from dash import Dash, html, dcc\n",
    "from jupyter_dash import JupyterDash"
   ]
  },
  {
   "cell_type": "code",
   "execution_count": null,
   "metadata": {},
   "outputs": [],
   "source": [
    "yesterday = (datetime.date.today() - datetime.timedelta(days = 1)).strftime(\"%m-%d-%Y\")\n",
    "print(\"Yesterday: \", yesterday)\n",
    "data = pandas.read_csv('https://raw.githubusercontent.com/CSSEGISandData/COVID-19/master/csse_covid_19_data/csse_covid_19_daily_reports/' + yesterday + '.csv')"
   ]
  },
  {
   "cell_type": "code",
   "execution_count": null,
   "metadata": {},
   "outputs": [],
   "source": [
    "print(\"Before cleaning rows: \", data.shape[0])\n",
    "data[\"Lat\"].replace(\"\", numpy.nan, inplace=True)\n",
    "data.dropna(subset=[\"Lat\"], inplace=True)\n",
    "print(\"After cleaning rows: \", data.shape[0])"
   ]
  },
  {
   "cell_type": "code",
   "execution_count": null,
   "metadata": {},
   "outputs": [],
   "source": [
    "unique_countries =  list(data['Country_Region'].unique())\n",
    "\n",
    "country_confirmed_cases = []\n",
    "country_death_cases = [] \n",
    "country_active_cases = []\n",
    "country_recovery_cases = []\n",
    "country_incidence_rate = [] \n",
    "country_mortality_rate = [] \n",
    "\n",
    "no_cases = []\n",
    "i = 0\n",
    "while i < len(unique_countries):\n",
    "    cases = data[data['Country_Region']==unique_countries[i]]['Confirmed'].sum()\n",
    "    if cases > 0:\n",
    "        country_confirmed_cases.append(cases)\n",
    "    else:\n",
    "        no_cases.append(unique_countries[i])\n",
    "    i += 1\n",
    "\n",
    "i = 0\n",
    "while i < len(no_cases):\n",
    "    unique_countries.remove(no_cases[i])\n",
    "    i += 1\n",
    "    \n",
    "unique_countries = [k for k, v in sorted(zip(unique_countries, country_confirmed_cases), key=operator.itemgetter(1), reverse=True)]\n",
    "i = 0\n",
    "while i < len(unique_countries):\n",
    "    country_confirmed_cases[i] = data[data['Country_Region']==unique_countries[i]]['Confirmed'].sum()\n",
    "    country_death_cases.append(data[data['Country_Region']==unique_countries[i]]['Deaths'].sum())\n",
    "    country_recovery_cases.append(data[data['Country_Region']==unique_countries[i]]['Recovered'].sum())\n",
    "    country_active_cases.append(data[data['Country_Region']==unique_countries[i]]['Active'].sum())\n",
    "    country_incidence_rate.append(data[data['Country_Region']==unique_countries[i]]['Incident_Rate'].sum())\n",
    "    country_mortality_rate.append(country_death_cases[i]/country_confirmed_cases[i])\n",
    "    i += 1"
   ]
  },
  {
   "cell_type": "code",
   "execution_count": null,
   "metadata": {},
   "outputs": [],
   "source": [
    "country_df = pandas.DataFrame({\n",
    "    'Country': unique_countries, \n",
    "    'No. of Confirmed Cases': country_confirmed_cases,\n",
    "    'No. of Deaths': country_death_cases, \n",
    "    'No. of Recoveries' : country_recovery_cases, \n",
    "    'No. of Active Cases' : country_active_cases, \n",
    "    'Incidence Rate' : country_incidence_rate,\n",
    "    'Mortality Rate': country_mortality_rate\n",
    "})\n",
    "\n",
    "# country_df.style.background_gradient(cmap='Greens')"
   ]
  },
  {
   "cell_type": "code",
   "execution_count": null,
   "metadata": {},
   "outputs": [],
   "source": [
    "def plot_bar_graphs(x, y, title):\n",
    "    pyplot.figure(figsize=(16, 12))\n",
    "    pyplot.barh(x, y)\n",
    "    pyplot.title(title, size=20)\n",
    "    pyplot.xticks(size=20)\n",
    "    pyplot.yticks(size=20)\n",
    "    pyplot.show()\n",
    "\n",
    "def plot_pie_charts(x, y, title):\n",
    "    c = ['lightcoral', 'rosybrown', 'sandybrown', 'navajowhite', 'gold',\n",
    "        'khaki', 'lightskyblue', 'turquoise', 'lightslategrey', 'thistle', 'pink']\n",
    "    pyplot.figure(figsize=(20,15))\n",
    "    pyplot.title(title, size=20)\n",
    "    pyplot.pie(y, colors=c,shadow=True, labels=y)\n",
    "    pyplot.legend(x, loc='best', fontsize=12)\n",
    "    pyplot.show()"
   ]
  },
  {
   "cell_type": "code",
   "execution_count": null,
   "metadata": {},
   "outputs": [],
   "source": [
    "visual_unique_countries = [] \n",
    "visual_confirmed_cases = []\n",
    "others = numpy.sum(country_confirmed_cases[10:])\n",
    "\n",
    "i = 0\n",
    "while i < len(country_confirmed_cases[:10]):\n",
    "    visual_unique_countries.append(unique_countries[i])\n",
    "    visual_confirmed_cases.append(country_confirmed_cases[i])\n",
    "    i += 1\n",
    "    \n",
    "visual_unique_countries.append('Others')\n",
    "visual_confirmed_cases.append(others)"
   ]
  },
  {
   "cell_type": "code",
   "execution_count": null,
   "metadata": {},
   "outputs": [],
   "source": [
    "# plot_bar_graphs(visual_unique_countries, visual_confirmed_cases, '# of Covid-19 Confirmed Cases in Countries/Regions')\n",
    "# plot_pie_charts(visual_unique_countries, visual_confirmed_cases, 'Covid-19 Confirmed Cases per Country')"
   ]
  },
  {
   "cell_type": "code",
   "execution_count": null,
   "metadata": {},
   "outputs": [],
   "source": [
    "fig_df = pandas.DataFrame({\n",
    "    'Country': visual_unique_countries,\n",
    "    'Confirmed Cases': visual_confirmed_cases\n",
    "})\n",
    "fig_bar = px.bar(\n",
    "    fig_df,\n",
    "    x = fig_df['Confirmed Cases'],\n",
    "    y = fig_df['Country'],\n",
    "    labels = {\n",
    "        \"x\": \"Confirmed Cases\",\n",
    "        \"y\": \"Country\"\n",
    "    },\n",
    "    title = \"# of Covid-19 Confirmed Cases in Countries/Regions\",\n",
    "    orientation = \"h\"\n",
    ")\n",
    "fig_pie = px.pie(\n",
    "    fig_df,\n",
    "    values = \"Confirmed Cases\",\n",
    "    names = \"Country\",\n",
    "    title = \"Covid-19 Confirmed Cases per Country\"\n",
    ")"
   ]
  },
  {
   "cell_type": "code",
   "execution_count": null,
   "metadata": {},
   "outputs": [],
   "source": [
    "app = JupyterDash(__name__)\n",
    "app.layout = html.Div(children=[\n",
    "    html.H1(children='Hello Dash'),\n",
    "    html.Div(children='''\n",
    "        Dash: A web application framework for your data.\n",
    "    '''),\n",
    "    html.Div(\n",
    "        children = dcc.Graph(\n",
    "            id = \"bar_no_confirmed\",\n",
    "            figure = fig_bar\n",
    "        )\n",
    "    ),\n",
    "    html.Div(\n",
    "        children = dcc.Graph(\n",
    "            id = \"pie_no_confirmed\",\n",
    "            figure = fig_pie\n",
    "        )\n",
    "    )\n",
    "])"
   ]
  },
  {
   "cell_type": "code",
   "execution_count": null,
   "metadata": {},
   "outputs": [],
   "source": [
    "if __name__ == '__main__':\n",
    "    app.run_server(debug=True)"
   ]
  }
 ],
 "metadata": {
  "interpreter": {
   "hash": "e26550a99b8cdaeca938eba5dfe93bbe201b1984deb8af224ca0d45a986faa87"
  },
  "kernelspec": {
   "display_name": "Python 3.9.12 64-bit (windows store)",
   "language": "python",
   "name": "python3"
  },
  "language_info": {
   "codemirror_mode": {
    "name": "ipython",
    "version": 3
   },
   "file_extension": ".py",
   "mimetype": "text/x-python",
   "name": "python",
   "nbconvert_exporter": "python",
   "pygments_lexer": "ipython3",
   "version": "3.9.12"
  },
  "orig_nbformat": 4
 },
 "nbformat": 4,
 "nbformat_minor": 2
}
